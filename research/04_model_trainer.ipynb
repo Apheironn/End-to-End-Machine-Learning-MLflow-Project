{
 "cells": [
  {
   "cell_type": "code",
   "execution_count": null,
   "metadata": {},
   "outputs": [],
   "source": [
    "    def pipeline(self):\n",
    "        data = pd.read_csv(self.config.data_path)\n",
    "        num_features = data.select_dtypes(exclude=\"object\").columns\n",
    "        cat_features = data.select_dtypes(include=\"object\").columns\n",
    "        numeric_transformer = StandardScaler()\n",
    "        oh_transformer = OneHotEncoder()\n",
    "        preprocessor = ColumnTransformer(\n",
    "            [\n",
    "                (\"OneHotEncoder\", oh_transformer, cat_features),\n",
    "                (\"StandardScaler\", numeric_transformer, num_features)\n",
    "            ]\n",
    "        )\n",
    "        data = preprocessor.fit_transform(data)\n",
    "        \n",
    "        logger.info(\"Pipeline applied\")\n",
    "        logger.info(data.shape)\n",
    "        print(data.shape)"
   ]
  }
 ],
 "metadata": {
  "language_info": {
   "name": "python"
  },
  "orig_nbformat": 4
 },
 "nbformat": 4,
 "nbformat_minor": 2
}
