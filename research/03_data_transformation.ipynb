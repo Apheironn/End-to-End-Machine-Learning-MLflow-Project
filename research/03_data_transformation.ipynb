{
 "cells": [
  {
   "cell_type": "code",
   "execution_count": 1,
   "metadata": {},
   "outputs": [],
   "source": [
    "import os"
   ]
  },
  {
   "cell_type": "code",
   "execution_count": 2,
   "metadata": {},
   "outputs": [],
   "source": [
    "os.chdir(\"../\")"
   ]
  },
  {
   "cell_type": "code",
   "execution_count": 3,
   "metadata": {},
   "outputs": [],
   "source": [
    "from dataclasses import dataclass\n",
    "from pathlib import Path\n",
    "\n",
    "\n",
    "@dataclass(frozen=True)\n",
    "class DataTransformationConfig:\n",
    "    root_dir: Path\n",
    "    data_path: Path"
   ]
  },
  {
   "cell_type": "code",
   "execution_count": 4,
   "metadata": {},
   "outputs": [],
   "source": [
    "from mlProject.constants import *\n",
    "from mlProject.utils.common import read_yaml, create_directories"
   ]
  },
  {
   "cell_type": "code",
   "execution_count": 5,
   "metadata": {},
   "outputs": [],
   "source": [
    "class ConfigurationManager:\n",
    "    def __init__(\n",
    "        self,\n",
    "        config_filepath = CONFIG_FILE_PATH,\n",
    "        params_filepath = PARAMS_FILE_PATH,\n",
    "        schema_filepath = SCHEMA_FILE_PATH):\n",
    "\n",
    "        self.config = read_yaml(config_filepath)\n",
    "        self.params = read_yaml(params_filepath)\n",
    "        self.schema = read_yaml(schema_filepath)\n",
    "\n",
    "        create_directories([self.config.artifacts_root])\n",
    "\n",
    "\n",
    "    \n",
    "    def get_data_transformation_config(self) -> DataTransformationConfig:\n",
    "        config = self.config.data_transformation\n",
    "\n",
    "        create_directories([config.root_dir])\n",
    "\n",
    "        data_transformation_config = DataTransformationConfig(\n",
    "            root_dir=config.root_dir,\n",
    "            data_path=config.data_path,\n",
    "        )\n",
    "\n",
    "        return data_transformation_config"
   ]
  },
  {
   "cell_type": "code",
   "execution_count": 6,
   "metadata": {},
   "outputs": [],
   "source": [
    "import os\n",
    "from mlProject import logger\n",
    "from sklearn.model_selection import train_test_split\n",
    "from sklearn.preprocessing import OneHotEncoder\n",
    "import pandas as pd"
   ]
  },
  {
   "cell_type": "code",
   "execution_count": 31,
   "metadata": {},
   "outputs": [],
   "source": [
    "class DataTransformation:\n",
    "    def __init__(self, config: DataTransformationConfig):\n",
    "        self.config = config\n",
    "\n",
    "    def pipeline(self):\n",
    "        data = pd.read_csv(self.config.data_path)\n",
    "        cat_features = data.select_dtypes(include=\"object\").columns\n",
    "        encoder = OneHotEncoder()\n",
    "\n",
    "        encoded_features = encoder.fit_transform(data[cat_features])\n",
    "\n",
    "        data = pd.get_dummies(data, columns=cat_features)\n",
    "        self.data = data\n",
    "        print(data.head(1))\n",
    "        logger.info(\"Pipeline applied\")\n",
    "        logger.info(data.shape)\n",
    "        print(data.shape)\n",
    "\n",
    "    def train_test_spliting(self):\n",
    "        data = self.data\n",
    "        # Split the data into training and test sets. (0.80, 0.20) split.\n",
    "        train, test = train_test_split(data,test_size=0.2,random_state=42)\n",
    "\n",
    "        train.to_csv(os.path.join(self.config.root_dir, \"train.csv\"),index = False)\n",
    "        test.to_csv(os.path.join(self.config.root_dir, \"test.csv\"),index = False)\n",
    "\n",
    "        logger.info(\"Splited data into training and test sets\")\n",
    "        logger.info(train.shape)\n",
    "        logger.info(test.shape)\n",
    "\n",
    "        print(train.shape)\n",
    "        print(test.shape)\n",
    "        "
   ]
  },
  {
   "cell_type": "code",
   "execution_count": 32,
   "metadata": {},
   "outputs": [
    {
     "name": "stdout",
     "output_type": "stream",
     "text": [
      "[2023-08-08 18:02:26,991: INFO: common: yaml file: config\\config.yaml loaded successfully]\n",
      "[2023-08-08 18:02:26,992: INFO: common: yaml file: params.yaml loaded successfully]\n",
      "[2023-08-08 18:02:26,994: INFO: common: yaml file: schema.yaml loaded successfully]\n",
      "[2023-08-08 18:02:26,995: INFO: common: created directory at: artifacts]\n",
      "[2023-08-08 18:02:26,996: INFO: common: created directory at: artifacts/data_transformation]\n",
      "    Price  Year  Kilometer  Engine  Length   Width  Height  Seating Capacity  \\\n",
      "0  505000  2017      87150  1198.0  3990.0  1680.0  1505.0               5.0   \n",
      "\n",
      "   Fuel Tank Capacity  TorquePower  ...  Owner_Fourth  Owner_Second  \\\n",
      "0                35.0        109.0  ...         False         False   \n",
      "\n",
      "   Owner_Third  Owner_UnRegistered Car  Seller Type_Commercial Registration  \\\n",
      "0        False                   False                                False   \n",
      "\n",
      "   Seller Type_Corporate  Seller Type_Individual  Drivetrain_AWD  \\\n",
      "0                   True                   False           False   \n",
      "\n",
      "   Drivetrain_FWD  Drivetrain_RWD  \n",
      "0            True           False  \n",
      "\n",
      "[1 rows x 86 columns]\n",
      "[2023-08-08 18:02:27,017: INFO: 1045045770: Pipeline applied]\n",
      "[2023-08-08 18:02:27,017: INFO: 1045045770: (2036, 86)]\n",
      "(2036, 86)\n",
      "[2023-08-08 18:02:27,047: INFO: 1045045770: Splited data into training and test sets]\n",
      "[2023-08-08 18:02:27,047: INFO: 1045045770: (1628, 86)]\n",
      "[2023-08-08 18:02:27,048: INFO: 1045045770: (408, 86)]\n",
      "(1628, 86)\n",
      "(408, 86)\n"
     ]
    }
   ],
   "source": [
    "try:\n",
    "    config = ConfigurationManager()\n",
    "    data_transformation_config = config.get_data_transformation_config()\n",
    "    data_transformation = DataTransformation(config=data_transformation_config)\n",
    "    data_transformation.pipeline()\n",
    "    data_transformation.train_test_spliting()\n",
    "except Exception as e:\n",
    "    raise e"
   ]
  },
  {
   "cell_type": "code",
   "execution_count": null,
   "metadata": {},
   "outputs": [],
   "source": []
  }
 ],
 "metadata": {
  "kernelspec": {
   "display_name": "venv",
   "language": "python",
   "name": "python3"
  },
  "language_info": {
   "codemirror_mode": {
    "name": "ipython",
    "version": 3
   },
   "file_extension": ".py",
   "mimetype": "text/x-python",
   "name": "python",
   "nbconvert_exporter": "python",
   "pygments_lexer": "ipython3",
   "version": "3.11.4"
  },
  "orig_nbformat": 4
 },
 "nbformat": 4,
 "nbformat_minor": 2
}
